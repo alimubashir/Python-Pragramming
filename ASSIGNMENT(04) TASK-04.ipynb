{
 "cells": [
  {
   "cell_type": "code",
   "execution_count": null,
   "metadata": {},
   "outputs": [
    {
     "name": "stdout",
     "output_type": "stream",
     "text": [
      "('one of my favorite book is ', '')\n"
     ]
    }
   ],
   "source": [
    "#ASSIGNMENT(04) TASK-04\n",
    "\n",
    "#defining a function:\n",
    "\n",
    "def favorite_book(a):\n",
    "    book = (\"one of my favorite book is \", a)\n",
    "    print(book)\n",
    "    \n",
    "#calling the user_defined function    \n",
    "\n",
    "favorite_book(\"\")   \n",
    "\n",
    "#exit\n",
    "input(\"\\n\\npress enter to get exit\")\n"
   ]
  },
  {
   "cell_type": "code",
   "execution_count": null,
   "metadata": {},
   "outputs": [],
   "source": []
  }
 ],
 "metadata": {
  "kernelspec": {
   "display_name": "Python 3",
   "language": "python",
   "name": "python3"
  },
  "language_info": {
   "codemirror_mode": {
    "name": "ipython",
    "version": 3
   },
   "file_extension": ".py",
   "mimetype": "text/x-python",
   "name": "python",
   "nbconvert_exporter": "python",
   "pygments_lexer": "ipython3",
   "version": "3.7.4"
  }
 },
 "nbformat": 4,
 "nbformat_minor": 2
}
