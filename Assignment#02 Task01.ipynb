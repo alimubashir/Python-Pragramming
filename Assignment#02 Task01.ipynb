{
 "cells": [
  {
   "cell_type": "code",
   "execution_count": 4,
   "metadata": {},
   "outputs": [
    {
     "name": "stdout",
     "output_type": "stream",
     "text": [
      "Enter the marks of English: 56\n",
      "\n",
      "\n",
      "Enter the marks of Urdu: 76\n",
      "\n",
      "\n",
      "Enter the marks of islamiat: 67\n",
      "\n",
      "\n",
      "Enter the marks of Physics: 76\n",
      "\n",
      "\n",
      "Enter the marks of Mathematics: 67\n",
      "\n",
      "\n",
      "Enter the marks of Chemistry: 76\n",
      "\n",
      "\n",
      "Your obtained marks is: 418\n",
      "\n",
      "\n",
      "Your percentage is 76.0\n",
      "\n",
      "\n",
      "Your grade is A\n",
      "\n",
      "Good Work!\n"
     ]
    }
   ],
   "source": [
    "#TaskNo.01\n",
    "\n",
    "#subjects marks\n",
    "eng = int(input(\"Enter the marks of English: \"))\n",
    "urdu= int(input(\"\\n\\nEnter the marks of Urdu: \"))\n",
    "isl = int(input(\"\\n\\nEnter the marks of islamiat: \"))\n",
    "Phy =int(input(\"\\n\\nEnter the marks of Physics: \"))\n",
    "math = int(input(\"\\n\\nEnter the marks of Mathematics: \"))\n",
    "chem = int(input(\"\\n\\nEnter the marks of Chemistry: \"))\n",
    "#Obtained marks\n",
    "Obtained_marks = eng + urdu + isl + Phy + math + chem\n",
    "print(\"\\n\\nYour obtained marks is:\", Obtained_marks)\n",
    "#Percentage\n",
    "percentage = (Obtained_marks/550) * 100\n",
    "print(\"\\n\\nYour percentage is\", percentage)\n",
    "\n",
    "#|Conditions for GRADE\n",
    "if percentage > 85 and percentage < 100:\n",
    "    print(\"\\n\\nYour Grade is A+\\n\\nCongratulations!\")\n",
    "elif percentage > 70 and percentage < 85:\n",
    "    print(\"\\n\\nYour grade is A\\n\\nGood Work!\")\n",
    "elif percentage > 60 and percentage < 70:\n",
    "    print(\"\\n\\nYour Grade is B\\n\\n Good effort but need hard work!\")\n",
    "elif percentage > 50 and percentage < 60:\n",
    "    print(\"\\n\\nYour grade is C.\\n\\n Try to give your best!\")\n",
    "elif percentage > 40 and percentage < 50:\n",
    "    print(\"\\n\\nYour grade is D\\n\\n Need very hard Work!\")\n",
    "elif percentage > 30 and percentage < 40:\n",
    "    print(\"\\n\\nYour Grade is E\\n\\n No Comments!\")\n",
    "else:\n",
    "    print(\"\\n\\nFAIL! \\n\\n Sorry Better Luck  next time :> \")\n",
    "inpput(\"\\n\\n\\n Press Enter to get exit!\")"
   ]
  },
  {
   "cell_type": "code",
   "execution_count": null,
   "metadata": {},
   "outputs": [],
   "source": []
  }
 ],
 "metadata": {
  "kernelspec": {
   "display_name": "Python 3",
   "language": "python",
   "name": "python3"
  },
  "language_info": {
   "codemirror_mode": {
    "name": "ipython",
    "version": 3
   },
   "file_extension": ".py",
   "mimetype": "text/x-python",
   "name": "python",
   "nbconvert_exporter": "python",
   "pygments_lexer": "ipython3",
   "version": "3.7.4"
  }
 },
 "nbformat": 4,
 "nbformat_minor": 2
}
