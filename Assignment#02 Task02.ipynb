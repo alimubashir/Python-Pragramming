{
 "cells": [
  {
   "cell_type": "code",
   "execution_count": 10,
   "metadata": {},
   "outputs": [
    {
     "name": "stdout",
     "output_type": "stream",
     "text": [
      "Press Enter\n",
      "To identify Wheter a number is even or odd!67\n",
      "\n",
      "Enter a number here: 67\n",
      "\n",
      "67 is an ODD number\n",
      "press enter to get exit\n",
      " thank you !\n"
     ]
    },
    {
     "data": {
      "text/plain": [
       "''"
      ]
     },
     "execution_count": 10,
     "metadata": {},
     "output_type": "execute_result"
    }
   ],
   "source": [
    "#Task No.2\n",
    "#Get a number Even or ODD.\n",
    "\n",
    "input(\"Press Enter\\nTo identify Wheter a number is even or odd!\")\n",
    "print(\"\")\n",
    "num = int(input(\"Enter a number here: \"))\n",
    "print(\"\")\n",
    "if (num % 2)==0:\n",
    "    print(\"{0} is an EVEN Number\".format(num))\n",
    "else:\n",
    "    print(\"{0} is an ODD number\".format(num))\n",
    "input(\"press enter to get exit\\n thank you !\")    "
   ]
  },
  {
   "cell_type": "code",
   "execution_count": null,
   "metadata": {},
   "outputs": [],
   "source": []
  }
 ],
 "metadata": {
  "kernelspec": {
   "display_name": "Python 3",
   "language": "python",
   "name": "python3"
  },
  "language_info": {
   "codemirror_mode": {
    "name": "ipython",
    "version": 3
   },
   "file_extension": ".py",
   "mimetype": "text/x-python",
   "name": "python",
   "nbconvert_exporter": "python",
   "pygments_lexer": "ipython3",
   "version": "3.7.4"
  }
 },
 "nbformat": 4,
 "nbformat_minor": 2
}
