{
 "cells": [
  {
   "cell_type": "code",
   "execution_count": null,
   "metadata": {},
   "outputs": [],
   "source": [
    "#ASSIGNMENT-04\n",
    "#TASK-01\n",
    "\n",
    "#information storing about the person in the dictionary\n",
    "person_info = {\n",
    "    \"Person no.\": 1,\n",
    "    \"first_name\": \"Mubashir\",\n",
    "    \"last_name\": \"Ali\",\n",
    "    \"age\": 19,\n",
    "    \"city\": \"Karachi\"\n",
    "}\n",
    "\n",
    "#printing each piece of information stored in dictionary\n",
    "input(\"\\nPress enter to print each piece of information of the person\\n\")\n",
    "for each_info in person_info.items():\n",
    "    print(each_info)\n",
    "\n",
    "    \n",
    "#Adding a key-value pair of Qualification\n",
    "input(\"\\nPress enter to add a key of QUALIFICATION in the information of the person\\n\")\n",
    "person_info[\"Qualification\"] = \"\"\n",
    "print(person_info.items())\n",
    "\n",
    "#updating the qualification to higher academic level\n",
    "input(\"\\npress enter to update the qualification to higher academic level\")\n",
    "person_info[\"Qualification\"] = \"H.E.C\"\n",
    "print(person_info.items())\n",
    "\n",
    "#deleting the qualification key-value\n",
    "input(\"\\npress enter to delete the qualification from person's information\\n\")\n",
    "del person_info[\"Qualification\"]\n",
    "print(person_info.items())\n",
    "\n",
    "#exit\n",
    "input(\"press enter to exit!\")"
   ]
  }
 ],
 "metadata": {
  "kernelspec": {
   "display_name": "Python 3",
   "language": "python",
   "name": "python3"
  },
  "language_info": {
   "codemirror_mode": {
    "name": "ipython",
    "version": 3
   },
   "file_extension": ".py",
   "mimetype": "text/x-python",
   "name": "python",
   "nbconvert_exporter": "python",
   "pygments_lexer": "ipython3",
   "version": "3.7.4"
  }
 },
 "nbformat": 4,
 "nbformat_minor": 2
}
