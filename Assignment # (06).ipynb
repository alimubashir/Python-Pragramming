{
 "cells": [
  {
   "cell_type": "code",
   "execution_count": 1,
   "metadata": {},
   "outputs": [],
   "source": [
    "#QUESTION-1\n",
    "\n",
    "#Object-oriented Programming, or OOP for short, is a programming paradigm which provides a means of structuring programs so that properties and behaviors are bundled into individual objects.\n",
    "#Since Python is a multi-paradigm programming language, you can choose the paradigm that best suits the problem at hand, mix different paradigms in one program, and/or switch from one paradigm to another as your program evolves.\n",
    "--------------------------------------------------------------------------------------------------\n",
    "\n",
    "#Question-2\n",
    "#Benefits of OOP:\n",
    "\n",
    "#i- Modularity for easier troubleshooting. Something has gone wrong, and you have no idea where to look. ...\n",
    "#ii- Reuse of code through inheritance. ...\n",
    "#iii- Flexibility through polymorphism. ...\n",
    "#iv- Effective problem solving.\n",
    "---------------------------------------------------------------------------------------------------\n",
    "\n",
    "#QUESTION-3\n",
    "\n",
    "#Difference between function and method:\n",
    "\n",
    "#A METHOD in python is somewhat similar to a FUNCTION, except it is associated with object/classes. Methods in python are very similar to functions except for two major differences. The method is implicitly used for an object for which it is called. The method is accessible to data that is contained within the class.\n",
    "\n",
    "---------------------------------------------------------------------------------------------------\n",
    "\n",
    "#Question-4\n",
    "\n",
    "Class:\n",
    "    #A class is a code template for creating objects\n",
    "    \n",
    "Object:\n",
    "    #Object is simply a collection of data (variables) and methods (functions) that act on those data. \n",
    "    #And, class is a blueprint for the object\n",
    "    \n",
    "Atribute:\n",
    "    #in python, All functions have a built-in attribute __doc__, which returns the doc string defined in the function source code\n",
    "    \n",
    "Behaviour:\n",
    "    #Behaviour provides a language suitable for Behaviour Driven Development (BDD),\n",
    "    #as opposed to post-coding unit testing. \n",
    "    #It operates as a facade over Python’s unit testing framework."
   ]
  },
  {
   "cell_type": "code",
   "execution_count": null,
   "metadata": {},
   "outputs": [],
   "source": []
  }
 ],
 "metadata": {
  "kernelspec": {
   "display_name": "Python 3",
   "language": "python",
   "name": "python3"
  },
  "language_info": {
   "codemirror_mode": {
    "name": "ipython",
    "version": 3
   },
   "file_extension": ".py",
   "mimetype": "text/x-python",
   "name": "python",
   "nbconvert_exporter": "python",
   "pygments_lexer": "ipython3",
   "version": "3.7.4"
  }
 },
 "nbformat": 4,
 "nbformat_minor": 2
}
