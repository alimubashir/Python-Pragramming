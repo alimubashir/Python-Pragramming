{
 "cells": [
  {
   "cell_type": "code",
   "execution_count": 15,
   "metadata": {},
   "outputs": [
    {
     "name": "stdout",
     "output_type": "stream",
     "text": [
      "Given List is:\n",
      "\n",
      "\n",
      "lst = [ 3, 6, 9, 12, 3, 30, 65, 15, 3, 9, 45, 36, 65, 12, 12]\n",
      "\n",
      "Duplicate items in the list are:\n",
      "\n",
      "[3, 9, 65, 12]\n",
      "\n",
      "\n",
      "Press enter to get Exit!\n"
     ]
    },
    {
     "data": {
      "text/plain": [
       "''"
      ]
     },
     "execution_count": 15,
     "metadata": {},
     "output_type": "execute_result"
    }
   ],
   "source": [
    "print(\"Given List is:\\n\\n\")\n",
    "print(\"lst = [ 3, 6, 9, 12, 3, 30, 65, 15, 3, 9, 45, 36, 65, 12, 12]\")\n",
    "lst = [ 3, 6, 9, 12, 3, 30, 65, 15, 3, 9, 45, 36, 65, 12, 12]\n",
    "dupItems = []\n",
    "uniqItems = {}\n",
    "for x in lst:\n",
    "   if x not in uniqItems:\n",
    "      uniqItems[x] = 1\n",
    "   else:\n",
    "      if uniqItems[x] == 1:\n",
    "         dupItems.append(x)\n",
    "      uniqItems[x] += 1\n",
    "print(\"\\nDuplicate items in the list are:\\n\")\n",
    "print(dupItems)\n",
    "print(\"\")\n",
    "input(\"\\nPress enter to get Exit!\")"
   ]
  },
  {
   "cell_type": "code",
   "execution_count": null,
   "metadata": {},
   "outputs": [],
   "source": []
  },
  {
   "cell_type": "code",
   "execution_count": null,
   "metadata": {},
   "outputs": [],
   "source": []
  },
  {
   "cell_type": "code",
   "execution_count": null,
   "metadata": {},
   "outputs": [],
   "source": []
  }
 ],
 "metadata": {
  "kernelspec": {
   "display_name": "Python 3",
   "language": "python",
   "name": "python3"
  },
  "language_info": {
   "codemirror_mode": {
    "name": "ipython",
    "version": 3
   },
   "file_extension": ".py",
   "mimetype": "text/x-python",
   "name": "python",
   "nbconvert_exporter": "python",
   "pygments_lexer": "ipython3",
   "version": "3.7.4"
  }
 },
 "nbformat": 4,
 "nbformat_minor": 2
}
