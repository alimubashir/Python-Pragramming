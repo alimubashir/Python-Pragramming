{
 "cells": [
  {
   "cell_type": "code",
   "execution_count": 1,
   "metadata": {},
   "outputs": [
    {
     "name": "stdout",
     "output_type": "stream",
     "text": [
      "Guess a number\n",
      "None2\n",
      "Number is low\n",
      "Guess a number\n",
      "None4\n",
      "Number is low\n",
      "Guess a number\n",
      "None5\n",
      "Number is low\n",
      "You Lose!\n"
     ]
    }
   ],
   "source": [
    "#ASSIGNMENT(04)TASK-05\n",
    "import random\n",
    "gTaken=0\n",
    "number=random.randint(1,30)\n",
    "while gTaken<3:\n",
    "    gNumber=int(input(print(\"Guess a number\")))\n",
    "    gTaken=gTaken+1\n",
    "    if gNumber<number:\n",
    "        print(\"Number is low\")\n",
    "    elif gNumber>number:\n",
    "        print(\"Number is high\")\n",
    "    elif gNumber==number:\n",
    "        break\n",
    "if gNumber==number:\n",
    "    print(\"Congratulation! you guessed the number right in \"+str(gTaken)+\"guesses\")\n",
    "else:\n",
    "    print(\"You Lose!\")"
   ]
  },
  {
   "cell_type": "code",
   "execution_count": null,
   "metadata": {},
   "outputs": [],
   "source": []
  }
 ],
 "metadata": {
  "kernelspec": {
   "display_name": "Python 3",
   "language": "python",
   "name": "python3"
  },
  "language_info": {
   "codemirror_mode": {
    "name": "ipython",
    "version": 3
   },
   "file_extension": ".py",
   "mimetype": "text/x-python",
   "name": "python",
   "nbconvert_exporter": "python",
   "pygments_lexer": "ipython3",
   "version": "3.7.4"
  }
 },
 "nbformat": 4,
 "nbformat_minor": 2
}
