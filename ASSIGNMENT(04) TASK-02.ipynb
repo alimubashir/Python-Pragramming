{
 "cells": [
  {
   "cell_type": "code",
   "execution_count": null,
   "metadata": {},
   "outputs": [],
   "source": [
    "#ASSIGNMENT(04) TASK-02\n",
    "\n",
    "cities = {\n",
    "    \"Karachi\":{\n",
    "      \"country\": \"Pakistan\",\n",
    "      \"Population\": \"197 million\",\n",
    "      \"fact\": \"made in 1947\"\n",
    "    },\n",
    "    \n",
    "    \"England\" : {\n",
    "        \"Country\" : \"United Kingdom\",\n",
    "        \"population\" : \"55.98 million \",\n",
    "        \"fact\": \"England is the most populated country in the United Kingdom\"\n",
    "    },\n",
    "    \"Beijing\" : {\n",
    "        \"country\": \"china\",\n",
    "        \"population\": \"1.386 billion\",\n",
    "        \"fact\": \"chinese nation is very hard working\"\n",
    "    }\n",
    "    \n",
    "}\n",
    "for eachcity in cities.items():\n",
    "    print(eachcity)\n",
    "\n",
    "#exit\n",
    "input(\"press enter to exit!\")\n"
   ]
  },
  {
   "cell_type": "code",
   "execution_count": null,
   "metadata": {},
   "outputs": [],
   "source": []
  },
  {
   "cell_type": "code",
   "execution_count": null,
   "metadata": {},
   "outputs": [],
   "source": []
  }
 ],
 "metadata": {
  "kernelspec": {
   "display_name": "Python 3",
   "language": "python",
   "name": "python3"
  },
  "language_info": {
   "codemirror_mode": {
    "name": "ipython",
    "version": 3
   },
   "file_extension": ".py",
   "mimetype": "text/x-python",
   "name": "python",
   "nbconvert_exporter": "python",
   "pygments_lexer": "ipython3",
   "version": "3.7.4"
  }
 },
 "nbformat": 4,
 "nbformat_minor": 2
}
