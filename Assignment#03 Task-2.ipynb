{
 "cells": [
  {
   "cell_type": "code",
   "execution_count": null,
   "metadata": {},
   "outputs": [],
   "source": [
    "#ASSIGNMENT#03 Task-2\n",
    "# Python program to print positive Numeric value in a List \n",
    "  \n",
    "print(\"list1 = [11, -21, 0, 45, 66, -93]\\n\")    \n",
    "list1 = [11, -21, 0, 45, 66, -93] \n",
    "  \n",
    "print(\"\\n In the given list they are they +ve Numeric values:\\n\") \n",
    "for num in list1: \n",
    "      \n",
    "     \n",
    "    if num >= 0: \n",
    "       print(num, end = \" \") \n",
    "print(\"\")\n",
    "input(\"press enter to exit !\")"
   ]
  }
 ],
 "metadata": {
  "kernelspec": {
   "display_name": "Python 3",
   "language": "python",
   "name": "python3"
  },
  "language_info": {
   "codemirror_mode": {
    "name": "ipython",
    "version": 3
   },
   "file_extension": ".py",
   "mimetype": "text/x-python",
   "name": "python",
   "nbconvert_exporter": "python",
   "pygments_lexer": "ipython3",
   "version": "3.7.4"
  }
 },
 "nbformat": 4,
 "nbformat_minor": 2
}
