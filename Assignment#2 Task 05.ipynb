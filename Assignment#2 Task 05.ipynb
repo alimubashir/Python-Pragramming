{
 "cells": [
  {
   "cell_type": "code",
   "execution_count": 4,
   "metadata": {},
   "outputs": [
    {
     "name": "stdout",
     "output_type": "stream",
     "text": [
      "Enter number of elements in list: 3\n",
      "\n",
      "\n",
      "Enter elements: 2\n",
      "\n",
      "\n",
      "Enter elements: 1\n",
      "\n",
      "\n",
      "Enter elements: 4\n",
      "\n",
      "\n",
      "\n",
      "Largest element is: 4\n",
      "\n",
      "\n",
      " Press enter to exit\n"
     ]
    },
    {
     "data": {
      "text/plain": [
       "''"
      ]
     },
     "execution_count": 4,
     "metadata": {},
     "output_type": "execute_result"
    }
   ],
   "source": [
    "#Task No.5\n",
    "#To get the largest element in the list.\n",
    "\n",
    "list1 = [] \n",
    "  \n",
    " \n",
    "num = int(input(\"Enter number of elements in list: \")) \n",
    "  \n",
    " \n",
    "for i in range(1, num + 1): \n",
    "    ele = int(input(\"\\n\\nEnter elements: \")) \n",
    "    list1.append(ele) \n",
    "      \n",
    " \n",
    "print(\"\\n\\n\\nLargest element is:\", max(list1)) \n",
    "input(\"\\n\\n Press enter to exit\")"
   ]
  },
  {
   "cell_type": "code",
   "execution_count": null,
   "metadata": {},
   "outputs": [],
   "source": []
  }
 ],
 "metadata": {
  "kernelspec": {
   "display_name": "Python 3",
   "language": "python",
   "name": "python3"
  },
  "language_info": {
   "codemirror_mode": {
    "name": "ipython",
    "version": 3
   },
   "file_extension": ".py",
   "mimetype": "text/x-python",
   "name": "python",
   "nbconvert_exporter": "python",
   "pygments_lexer": "ipython3",
   "version": "3.7.4"
  }
 },
 "nbformat": 4,
 "nbformat_minor": 2
}
