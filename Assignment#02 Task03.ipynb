{
 "cells": [
  {
   "cell_type": "code",
   "execution_count": null,
   "metadata": {},
   "outputs": [],
   "source": [
    "#Task no . 03\n",
    "#GET LENGHT OF THE LIST\n",
    "input(\"Please press enter to make a list of yours!z\\n\")\n",
    "print(\"\")\n",
    "a = []\n",
    "a.append(input(\"Enter an item to be added in the list: \"))\n",
    "a.append(input(\"Enter another item to be added in the list: \"))\n",
    "a.append(input(\"Enter another item to be added in the list: \"))\n",
    "a.append(input(\"Enter another item to be added in the list: \"))\n",
    "a.append(input(\"Enter another item to be added in the list: \"))\n",
    "print(\"\")\n",
    "print(a)\n",
    "input(\"Now press enter to get the number of items in the list\\n\")\n",
    "print(\"\\nThere are\", len(a), \"items in the list\")\n"
   ]
  },
  {
   "cell_type": "code",
   "execution_count": null,
   "metadata": {},
   "outputs": [],
   "source": []
  }
 ],
 "metadata": {
  "kernelspec": {
   "display_name": "Python 3",
   "language": "python",
   "name": "python3"
  },
  "language_info": {
   "codemirror_mode": {
    "name": "ipython",
    "version": 3
   },
   "file_extension": ".py",
   "mimetype": "text/x-python",
   "name": "python",
   "nbconvert_exporter": "python",
   "pygments_lexer": "ipython3",
   "version": "3.7.4"
  }
 },
 "nbformat": 4,
 "nbformat_minor": 2
}
